{
 "cells": [
  {
   "cell_type": "code",
   "execution_count": 1,
   "metadata": {
    "collapsed": true,
    "ExecuteTime": {
     "end_time": "2023-11-19T10:18:13.628787300Z",
     "start_time": "2023-11-19T10:18:13.020595500Z"
    }
   },
   "outputs": [],
   "source": [
    "import pandas as pd\n",
    "import random\n",
    "from airport import get_airport_data"
   ]
  },
  {
   "cell_type": "code",
   "execution_count": 2,
   "outputs": [
    {
     "data": {
      "text/plain": "'\\nairports = get_airport_data()\\nairports = pd.concat(airports)\\n# airports[airports[\"IATA\"] != airports[\"ICAO\"]]\\nairports[airports[\"IATA\"].eq(\"AJL\")]\\n'"
     },
     "execution_count": 2,
     "metadata": {},
     "output_type": "execute_result"
    }
   ],
   "source": [
    "\"\"\"\n",
    "airports = get_airport_data()\n",
    "airports = pd.concat(airports)\n",
    "# airports[airports[\"IATA\"] != airports[\"ICAO\"]]\n",
    "airports[airports[\"IATA\"].eq(\"AJL\")]\n",
    "\"\"\""
   ],
   "metadata": {
    "collapsed": false,
    "ExecuteTime": {
     "end_time": "2023-11-19T10:18:13.682338400Z",
     "start_time": "2023-11-19T10:18:13.631786300Z"
    }
   }
  },
  {
   "cell_type": "code",
   "execution_count": 3,
   "outputs": [],
   "source": [
    "from aircraft import get_aircraft_data"
   ],
   "metadata": {
    "collapsed": false,
    "ExecuteTime": {
     "end_time": "2023-11-19T10:18:13.683340Z",
     "start_time": "2023-11-19T10:18:13.639745800Z"
    }
   }
  },
  {
   "cell_type": "code",
   "execution_count": 4,
   "outputs": [],
   "source": [
    "planes = get_aircraft_data()"
   ],
   "metadata": {
    "collapsed": false,
    "ExecuteTime": {
     "end_time": "2023-11-19T10:18:13.999232800Z",
     "start_time": "2023-11-19T10:18:13.666341300Z"
    }
   }
  },
  {
   "cell_type": "code",
   "execution_count": 5,
   "outputs": [
    {
     "data": {
      "text/plain": "                          1  3    9              2\n0               Airbus A220  2  220         Canada\n1               Airbus A320  2  220  Multinational\n2               Airbus A330  2  270  Multinational\n3           Airbus A350 XWB  2  300  Multinational\n4     Antonov An-148/An-158  2  360        Ukraine\n5                Boeing 737  2  330  United States\n6                Boeing 767  2  290  United States\n7                Boeing 777  2  220  United States\n8     Boeing 787 Dreamliner  2  290  United States\n9     Comac ARJ21 Xiangfeng  2  230          China\n10               Comac C919  2  390          China\n11     Embraer E-Jet family  2  370         Brazil\n12  Embraer E-Jet E2 family  2  390         Brazil\n13           Ilyushin Il-96  4  310         Russia\n14   Sukhoi Superjet SSJ100  2  310         Russia\n15    Tupolev Tu-204/Tu-214  2  240         Russia",
      "text/html": "<div>\n<style scoped>\n    .dataframe tbody tr th:only-of-type {\n        vertical-align: middle;\n    }\n\n    .dataframe tbody tr th {\n        vertical-align: top;\n    }\n\n    .dataframe thead th {\n        text-align: right;\n    }\n</style>\n<table border=\"1\" class=\"dataframe\">\n  <thead>\n    <tr style=\"text-align: right;\">\n      <th></th>\n      <th>1</th>\n      <th>3</th>\n      <th>9</th>\n      <th>2</th>\n    </tr>\n  </thead>\n  <tbody>\n    <tr>\n      <th>0</th>\n      <td>Airbus A220</td>\n      <td>2</td>\n      <td>220</td>\n      <td>Canada</td>\n    </tr>\n    <tr>\n      <th>1</th>\n      <td>Airbus A320</td>\n      <td>2</td>\n      <td>220</td>\n      <td>Multinational</td>\n    </tr>\n    <tr>\n      <th>2</th>\n      <td>Airbus A330</td>\n      <td>2</td>\n      <td>270</td>\n      <td>Multinational</td>\n    </tr>\n    <tr>\n      <th>3</th>\n      <td>Airbus A350 XWB</td>\n      <td>2</td>\n      <td>300</td>\n      <td>Multinational</td>\n    </tr>\n    <tr>\n      <th>4</th>\n      <td>Antonov An-148/An-158</td>\n      <td>2</td>\n      <td>360</td>\n      <td>Ukraine</td>\n    </tr>\n    <tr>\n      <th>5</th>\n      <td>Boeing 737</td>\n      <td>2</td>\n      <td>330</td>\n      <td>United States</td>\n    </tr>\n    <tr>\n      <th>6</th>\n      <td>Boeing 767</td>\n      <td>2</td>\n      <td>290</td>\n      <td>United States</td>\n    </tr>\n    <tr>\n      <th>7</th>\n      <td>Boeing 777</td>\n      <td>2</td>\n      <td>220</td>\n      <td>United States</td>\n    </tr>\n    <tr>\n      <th>8</th>\n      <td>Boeing 787 Dreamliner</td>\n      <td>2</td>\n      <td>290</td>\n      <td>United States</td>\n    </tr>\n    <tr>\n      <th>9</th>\n      <td>Comac ARJ21 Xiangfeng</td>\n      <td>2</td>\n      <td>230</td>\n      <td>China</td>\n    </tr>\n    <tr>\n      <th>10</th>\n      <td>Comac C919</td>\n      <td>2</td>\n      <td>390</td>\n      <td>China</td>\n    </tr>\n    <tr>\n      <th>11</th>\n      <td>Embraer E-Jet family</td>\n      <td>2</td>\n      <td>370</td>\n      <td>Brazil</td>\n    </tr>\n    <tr>\n      <th>12</th>\n      <td>Embraer E-Jet E2 family</td>\n      <td>2</td>\n      <td>390</td>\n      <td>Brazil</td>\n    </tr>\n    <tr>\n      <th>13</th>\n      <td>Ilyushin Il-96</td>\n      <td>4</td>\n      <td>310</td>\n      <td>Russia</td>\n    </tr>\n    <tr>\n      <th>14</th>\n      <td>Sukhoi Superjet SSJ100</td>\n      <td>2</td>\n      <td>310</td>\n      <td>Russia</td>\n    </tr>\n    <tr>\n      <th>15</th>\n      <td>Tupolev Tu-204/Tu-214</td>\n      <td>2</td>\n      <td>240</td>\n      <td>Russia</td>\n    </tr>\n  </tbody>\n</table>\n</div>"
     },
     "execution_count": 5,
     "metadata": {},
     "output_type": "execute_result"
    }
   ],
   "source": [
    "planes"
   ],
   "metadata": {
    "collapsed": false,
    "ExecuteTime": {
     "end_time": "2023-11-19T10:18:14.012782700Z",
     "start_time": "2023-11-19T10:18:14.002224300Z"
    }
   }
  },
  {
   "cell_type": "code",
   "execution_count": 6,
   "outputs": [],
   "source": [
    "planes[9] = pd.Series((random.randint(20, 40) * 10 for _ in range(len(planes))), index=planes.index)"
   ],
   "metadata": {
    "collapsed": false,
    "ExecuteTime": {
     "end_time": "2023-11-19T10:18:14.018327900Z",
     "start_time": "2023-11-19T10:18:14.015813100Z"
    }
   }
  },
  {
   "cell_type": "code",
   "execution_count": 7,
   "outputs": [
    {
     "data": {
      "text/plain": "                          1  3    9              2\n0               Airbus A220  2  290         Canada\n1               Airbus A320  2  350  Multinational\n2               Airbus A330  2  390  Multinational\n3           Airbus A350 XWB  2  300  Multinational\n4     Antonov An-148/An-158  2  280        Ukraine\n5                Boeing 737  2  320  United States\n6                Boeing 767  2  300  United States\n7                Boeing 777  2  340  United States\n8     Boeing 787 Dreamliner  2  380  United States\n9     Comac ARJ21 Xiangfeng  2  280          China\n10               Comac C919  2  220          China\n11     Embraer E-Jet family  2  220         Brazil\n12  Embraer E-Jet E2 family  2  250         Brazil\n13           Ilyushin Il-96  4  320         Russia\n14   Sukhoi Superjet SSJ100  2  320         Russia\n15    Tupolev Tu-204/Tu-214  2  370         Russia",
      "text/html": "<div>\n<style scoped>\n    .dataframe tbody tr th:only-of-type {\n        vertical-align: middle;\n    }\n\n    .dataframe tbody tr th {\n        vertical-align: top;\n    }\n\n    .dataframe thead th {\n        text-align: right;\n    }\n</style>\n<table border=\"1\" class=\"dataframe\">\n  <thead>\n    <tr style=\"text-align: right;\">\n      <th></th>\n      <th>1</th>\n      <th>3</th>\n      <th>9</th>\n      <th>2</th>\n    </tr>\n  </thead>\n  <tbody>\n    <tr>\n      <th>0</th>\n      <td>Airbus A220</td>\n      <td>2</td>\n      <td>290</td>\n      <td>Canada</td>\n    </tr>\n    <tr>\n      <th>1</th>\n      <td>Airbus A320</td>\n      <td>2</td>\n      <td>350</td>\n      <td>Multinational</td>\n    </tr>\n    <tr>\n      <th>2</th>\n      <td>Airbus A330</td>\n      <td>2</td>\n      <td>390</td>\n      <td>Multinational</td>\n    </tr>\n    <tr>\n      <th>3</th>\n      <td>Airbus A350 XWB</td>\n      <td>2</td>\n      <td>300</td>\n      <td>Multinational</td>\n    </tr>\n    <tr>\n      <th>4</th>\n      <td>Antonov An-148/An-158</td>\n      <td>2</td>\n      <td>280</td>\n      <td>Ukraine</td>\n    </tr>\n    <tr>\n      <th>5</th>\n      <td>Boeing 737</td>\n      <td>2</td>\n      <td>320</td>\n      <td>United States</td>\n    </tr>\n    <tr>\n      <th>6</th>\n      <td>Boeing 767</td>\n      <td>2</td>\n      <td>300</td>\n      <td>United States</td>\n    </tr>\n    <tr>\n      <th>7</th>\n      <td>Boeing 777</td>\n      <td>2</td>\n      <td>340</td>\n      <td>United States</td>\n    </tr>\n    <tr>\n      <th>8</th>\n      <td>Boeing 787 Dreamliner</td>\n      <td>2</td>\n      <td>380</td>\n      <td>United States</td>\n    </tr>\n    <tr>\n      <th>9</th>\n      <td>Comac ARJ21 Xiangfeng</td>\n      <td>2</td>\n      <td>280</td>\n      <td>China</td>\n    </tr>\n    <tr>\n      <th>10</th>\n      <td>Comac C919</td>\n      <td>2</td>\n      <td>220</td>\n      <td>China</td>\n    </tr>\n    <tr>\n      <th>11</th>\n      <td>Embraer E-Jet family</td>\n      <td>2</td>\n      <td>220</td>\n      <td>Brazil</td>\n    </tr>\n    <tr>\n      <th>12</th>\n      <td>Embraer E-Jet E2 family</td>\n      <td>2</td>\n      <td>250</td>\n      <td>Brazil</td>\n    </tr>\n    <tr>\n      <th>13</th>\n      <td>Ilyushin Il-96</td>\n      <td>4</td>\n      <td>320</td>\n      <td>Russia</td>\n    </tr>\n    <tr>\n      <th>14</th>\n      <td>Sukhoi Superjet SSJ100</td>\n      <td>2</td>\n      <td>320</td>\n      <td>Russia</td>\n    </tr>\n    <tr>\n      <th>15</th>\n      <td>Tupolev Tu-204/Tu-214</td>\n      <td>2</td>\n      <td>370</td>\n      <td>Russia</td>\n    </tr>\n  </tbody>\n</table>\n</div>"
     },
     "execution_count": 7,
     "metadata": {},
     "output_type": "execute_result"
    }
   ],
   "source": [
    "planes[[1, 3, 9, 2]]"
   ],
   "metadata": {
    "collapsed": false,
    "ExecuteTime": {
     "end_time": "2023-11-19T10:18:14.041558100Z",
     "start_time": "2023-11-19T10:18:14.020328700Z"
    }
   }
  },
  {
   "cell_type": "code",
   "execution_count": 8,
   "outputs": [],
   "source": [
    "from people import get_person_data"
   ],
   "metadata": {
    "collapsed": false,
    "ExecuteTime": {
     "end_time": "2023-11-19T10:18:14.072546500Z",
     "start_time": "2023-11-19T10:18:14.032076900Z"
    }
   }
  },
  {
   "cell_type": "code",
   "execution_count": 9,
   "outputs": [],
   "source": [
    "people = get_person_data()"
   ],
   "metadata": {
    "collapsed": false,
    "ExecuteTime": {
     "end_time": "2023-11-19T10:18:24.340887300Z",
     "start_time": "2023-11-19T10:18:14.039558700Z"
    }
   }
  },
  {
   "cell_type": "code",
   "execution_count": 10,
   "outputs": [
    {
     "data": {
      "text/plain": "       id                                   uid    password  first_name  \\\n0    6219  082fa3f9-9b4e-42ef-b6be-17c68735760e  o9H6hqlcFU       Margo   \n1    9344  b22c8c55-f46d-4c06-b3ae-145d9d71a0b5  iPoMUxC54H        Dale   \n2    7160  99f13643-c11d-4266-b8a1-1a272c0f4535  3Wua7zSn84      Austin   \n3    3735  0729ec96-faeb-488d-b906-cd139f87537a  QylAWgdef9      Genaro   \n4    6879  25ad03e0-1e13-4533-8465-0dfd237c5655  GBWyPSraxl  Margarette   \n..    ...                                   ...         ...         ...   \n995  3527  956f2ae6-066a-4079-a828-d25d968ad1d8  bKkMXpCowf      Victor   \n996  8381  c47b9b7e-cb76-4295-91e6-7af79c4fa0a0  ZFMUEL8kb9      Carlyn   \n997  7853  64a5f210-2e69-44fa-a578-a4310ddd25e1  oRb2UviTJ9     Rodrick   \n998  7116  139e3b01-0665-4c13-b678-f04b5d32be68  alnDRQCS08     Domenic   \n999  9684  761f383d-8f06-4714-aa7f-c4b54ed7d24d  2ahMbLc7PK   Florencia   \n\n      last_name           username                        email  \\\n0       Wiegand      margo.wiegand      margo.wiegand@email.com   \n1         Wolff         dale.wolff         dale.wolff@email.com   \n2         Davis       austin.davis       austin.davis@email.com   \n3       Gutmann     genaro.gutmann     genaro.gutmann@email.com   \n4          Funk    margarette.funk    margarette.funk@email.com   \n..          ...                ...                          ...   \n995  Vandervort  victor.vandervort  victor.vandervort@email.com   \n996     Schultz     carlyn.schultz     carlyn.schultz@email.com   \n997    Ondricka   rodrick.ondricka   rodrick.ondricka@email.com   \n998      Carter     domenic.carter     domenic.carter@email.com   \n999      Fisher   florencia.fisher   florencia.fisher@email.com   \n\n                                                avatar       gender  \\\n0    https://robohash.org/facilisblanditiisvoluptas...     Bigender   \n1    https://robohash.org/totamoccaecatiplaceat.png...  Genderfluid   \n2    https://robohash.org/impeditnumquammolestiae.p...  Genderqueer   \n3    https://robohash.org/rerumquifacilis.png?size=...   Polygender   \n4    https://robohash.org/maioressintet.png?size=30...  Genderfluid   \n..                                                 ...          ...   \n995  https://robohash.org/isteeoset.png?size=300x30...      Agender   \n996  https://robohash.org/repellatreprehenderitsunt...     Bigender   \n997  https://robohash.org/beataeetconsequatur.png?s...         Male   \n998  https://robohash.org/nobisidvero.png?size=300x...  Genderfluid   \n999  https://robohash.org/quosnonquas.png?size=300x...      Agender   \n\n                   phone_number social_insurance_number date_of_birth  \\\n0     +670 (838) 702-3649 x2710               642396204    1999-10-09   \n1       +93 1-426-554-2240 x797               158657593    1990-09-29   \n2    +354 (820) 166-2688 x80879               315712083    1990-04-29   \n3      +389 (162) 534-9351 x254               243993706    1984-02-05   \n4       +44 1-160-561-7744 x254               237538004    2001-10-24   \n..                          ...                     ...           ...   \n995     +61 1-817-025-3482 x870               701621153    1976-11-09   \n996    +1-649 268.466.3114 x398               489089946    1985-07-16   \n997    +351 997-703-9263 x32335               351810809    2005-07-09   \n998         +248 (999) 917-5953               623095627    1974-05-09   \n999      +33 114.807.9755 x3723               642516520    1975-07-22   \n\n                                            employment  \\\n0    {'title': 'Construction Representative', 'key_...   \n1    {'title': 'Central Administration Technician',...   \n2    {'title': 'Mining Technician', 'key_skill': 'F...   \n3    {'title': 'Customer Technician', 'key_skill': ...   \n4    {'title': 'Consulting Technician', 'key_skill'...   \n..                                                 ...   \n995  {'title': 'Consulting Agent', 'key_skill': 'Fa...   \n996  {'title': 'District Consultant', 'key_skill': ...   \n997  {'title': 'Forward Accounting Representative',...   \n998  {'title': 'Forward Consulting Engineer', 'key_...   \n999  {'title': 'Education Representative', 'key_ski...   \n\n                                               address  \\\n0    {'city': 'West Edgarport', 'street_name': 'Mos...   \n1    {'city': 'New Junior', 'street_name': 'Darrin ...   \n2    {'city': 'New Randellberg', 'street_name': 'Qu...   \n3    {'city': 'North Felica', 'street_name': 'Hodki...   \n4    {'city': 'Margaritochester', 'street_name': 'S...   \n..                                                 ...   \n995  {'city': 'East Lucrecia', 'street_name': 'Ervi...   \n996  {'city': 'West Chantal', 'street_name': 'Dudle...   \n997  {'city': 'North Lemuel', 'street_name': 'Taylo...   \n998  {'city': 'Thompsonville', 'street_name': 'Hett...   \n999  {'city': 'Israelchester', 'street_name': 'Lave...   \n\n                              credit_card  \\\n0    {'cc_number': '6771-8916-4335-8449'}   \n1    {'cc_number': '6771-8911-1668-1632'}   \n2    {'cc_number': '4313-3931-9336-8654'}   \n3    {'cc_number': '6771-8987-2662-9752'}   \n4          {'cc_number': '4195475223875'}   \n..                                    ...   \n995  {'cc_number': '6771-8982-0986-4801'}   \n996  {'cc_number': '6771-8967-4782-5235'}   \n997  {'cc_number': '4196-0239-3091-4914'}   \n998  {'cc_number': '5416-3051-1835-8027'}   \n999  {'cc_number': '5427-6170-7854-3175'}   \n\n                                          subscription  \\\n0    {'plan': 'Starter', 'status': 'Pending', 'paym...   \n1    {'plan': 'Free Trial', 'status': 'Active', 'pa...   \n2    {'plan': 'Bronze', 'status': 'Active', 'paymen...   \n3    {'plan': 'Platinum', 'status': 'Pending', 'pay...   \n4    {'plan': 'Standard', 'status': 'Pending', 'pay...   \n..                                                 ...   \n995  {'plan': 'Platinum', 'status': 'Pending', 'pay...   \n996  {'plan': 'Business', 'status': 'Pending', 'pay...   \n997  {'plan': 'Free Trial', 'status': 'Active', 'pa...   \n998  {'plan': 'Essential', 'status': 'Active', 'pay...   \n999  {'plan': 'Silver', 'status': 'Active', 'paymen...   \n\n                                                adress  \n0    313 Kuvalis Mountains, West Edgarport, United ...  \n1    893 Toshiko Mills, New Junior, United States, ...  \n2    32132 Paul Forest, New Randellberg, United Sta...  \n3    68251 Swaniawski Route, North Felica, United S...  \n4    84892 Ebert Trace, Margaritochester, United St...  \n..                                                 ...  \n995  9638 Dagmar Highway, East Lucrecia, United Sta...  \n996  930 Welch Coves, West Chantal, United States, ...  \n997  8487 Quigley Mountain, North Lemuel, United St...  \n998  688 Willy Neck, Thompsonville, United States, ...  \n999  9835 Cyrus Isle, Israelchester, United States,...  \n\n[1000 rows x 17 columns]",
      "text/html": "<div>\n<style scoped>\n    .dataframe tbody tr th:only-of-type {\n        vertical-align: middle;\n    }\n\n    .dataframe tbody tr th {\n        vertical-align: top;\n    }\n\n    .dataframe thead th {\n        text-align: right;\n    }\n</style>\n<table border=\"1\" class=\"dataframe\">\n  <thead>\n    <tr style=\"text-align: right;\">\n      <th></th>\n      <th>id</th>\n      <th>uid</th>\n      <th>password</th>\n      <th>first_name</th>\n      <th>last_name</th>\n      <th>username</th>\n      <th>email</th>\n      <th>avatar</th>\n      <th>gender</th>\n      <th>phone_number</th>\n      <th>social_insurance_number</th>\n      <th>date_of_birth</th>\n      <th>employment</th>\n      <th>address</th>\n      <th>credit_card</th>\n      <th>subscription</th>\n      <th>adress</th>\n    </tr>\n  </thead>\n  <tbody>\n    <tr>\n      <th>0</th>\n      <td>6219</td>\n      <td>082fa3f9-9b4e-42ef-b6be-17c68735760e</td>\n      <td>o9H6hqlcFU</td>\n      <td>Margo</td>\n      <td>Wiegand</td>\n      <td>margo.wiegand</td>\n      <td>margo.wiegand@email.com</td>\n      <td>https://robohash.org/facilisblanditiisvoluptas...</td>\n      <td>Bigender</td>\n      <td>+670 (838) 702-3649 x2710</td>\n      <td>642396204</td>\n      <td>1999-10-09</td>\n      <td>{'title': 'Construction Representative', 'key_...</td>\n      <td>{'city': 'West Edgarport', 'street_name': 'Mos...</td>\n      <td>{'cc_number': '6771-8916-4335-8449'}</td>\n      <td>{'plan': 'Starter', 'status': 'Pending', 'paym...</td>\n      <td>313 Kuvalis Mountains, West Edgarport, United ...</td>\n    </tr>\n    <tr>\n      <th>1</th>\n      <td>9344</td>\n      <td>b22c8c55-f46d-4c06-b3ae-145d9d71a0b5</td>\n      <td>iPoMUxC54H</td>\n      <td>Dale</td>\n      <td>Wolff</td>\n      <td>dale.wolff</td>\n      <td>dale.wolff@email.com</td>\n      <td>https://robohash.org/totamoccaecatiplaceat.png...</td>\n      <td>Genderfluid</td>\n      <td>+93 1-426-554-2240 x797</td>\n      <td>158657593</td>\n      <td>1990-09-29</td>\n      <td>{'title': 'Central Administration Technician',...</td>\n      <td>{'city': 'New Junior', 'street_name': 'Darrin ...</td>\n      <td>{'cc_number': '6771-8911-1668-1632'}</td>\n      <td>{'plan': 'Free Trial', 'status': 'Active', 'pa...</td>\n      <td>893 Toshiko Mills, New Junior, United States, ...</td>\n    </tr>\n    <tr>\n      <th>2</th>\n      <td>7160</td>\n      <td>99f13643-c11d-4266-b8a1-1a272c0f4535</td>\n      <td>3Wua7zSn84</td>\n      <td>Austin</td>\n      <td>Davis</td>\n      <td>austin.davis</td>\n      <td>austin.davis@email.com</td>\n      <td>https://robohash.org/impeditnumquammolestiae.p...</td>\n      <td>Genderqueer</td>\n      <td>+354 (820) 166-2688 x80879</td>\n      <td>315712083</td>\n      <td>1990-04-29</td>\n      <td>{'title': 'Mining Technician', 'key_skill': 'F...</td>\n      <td>{'city': 'New Randellberg', 'street_name': 'Qu...</td>\n      <td>{'cc_number': '4313-3931-9336-8654'}</td>\n      <td>{'plan': 'Bronze', 'status': 'Active', 'paymen...</td>\n      <td>32132 Paul Forest, New Randellberg, United Sta...</td>\n    </tr>\n    <tr>\n      <th>3</th>\n      <td>3735</td>\n      <td>0729ec96-faeb-488d-b906-cd139f87537a</td>\n      <td>QylAWgdef9</td>\n      <td>Genaro</td>\n      <td>Gutmann</td>\n      <td>genaro.gutmann</td>\n      <td>genaro.gutmann@email.com</td>\n      <td>https://robohash.org/rerumquifacilis.png?size=...</td>\n      <td>Polygender</td>\n      <td>+389 (162) 534-9351 x254</td>\n      <td>243993706</td>\n      <td>1984-02-05</td>\n      <td>{'title': 'Customer Technician', 'key_skill': ...</td>\n      <td>{'city': 'North Felica', 'street_name': 'Hodki...</td>\n      <td>{'cc_number': '6771-8987-2662-9752'}</td>\n      <td>{'plan': 'Platinum', 'status': 'Pending', 'pay...</td>\n      <td>68251 Swaniawski Route, North Felica, United S...</td>\n    </tr>\n    <tr>\n      <th>4</th>\n      <td>6879</td>\n      <td>25ad03e0-1e13-4533-8465-0dfd237c5655</td>\n      <td>GBWyPSraxl</td>\n      <td>Margarette</td>\n      <td>Funk</td>\n      <td>margarette.funk</td>\n      <td>margarette.funk@email.com</td>\n      <td>https://robohash.org/maioressintet.png?size=30...</td>\n      <td>Genderfluid</td>\n      <td>+44 1-160-561-7744 x254</td>\n      <td>237538004</td>\n      <td>2001-10-24</td>\n      <td>{'title': 'Consulting Technician', 'key_skill'...</td>\n      <td>{'city': 'Margaritochester', 'street_name': 'S...</td>\n      <td>{'cc_number': '4195475223875'}</td>\n      <td>{'plan': 'Standard', 'status': 'Pending', 'pay...</td>\n      <td>84892 Ebert Trace, Margaritochester, United St...</td>\n    </tr>\n    <tr>\n      <th>...</th>\n      <td>...</td>\n      <td>...</td>\n      <td>...</td>\n      <td>...</td>\n      <td>...</td>\n      <td>...</td>\n      <td>...</td>\n      <td>...</td>\n      <td>...</td>\n      <td>...</td>\n      <td>...</td>\n      <td>...</td>\n      <td>...</td>\n      <td>...</td>\n      <td>...</td>\n      <td>...</td>\n      <td>...</td>\n    </tr>\n    <tr>\n      <th>995</th>\n      <td>3527</td>\n      <td>956f2ae6-066a-4079-a828-d25d968ad1d8</td>\n      <td>bKkMXpCowf</td>\n      <td>Victor</td>\n      <td>Vandervort</td>\n      <td>victor.vandervort</td>\n      <td>victor.vandervort@email.com</td>\n      <td>https://robohash.org/isteeoset.png?size=300x30...</td>\n      <td>Agender</td>\n      <td>+61 1-817-025-3482 x870</td>\n      <td>701621153</td>\n      <td>1976-11-09</td>\n      <td>{'title': 'Consulting Agent', 'key_skill': 'Fa...</td>\n      <td>{'city': 'East Lucrecia', 'street_name': 'Ervi...</td>\n      <td>{'cc_number': '6771-8982-0986-4801'}</td>\n      <td>{'plan': 'Platinum', 'status': 'Pending', 'pay...</td>\n      <td>9638 Dagmar Highway, East Lucrecia, United Sta...</td>\n    </tr>\n    <tr>\n      <th>996</th>\n      <td>8381</td>\n      <td>c47b9b7e-cb76-4295-91e6-7af79c4fa0a0</td>\n      <td>ZFMUEL8kb9</td>\n      <td>Carlyn</td>\n      <td>Schultz</td>\n      <td>carlyn.schultz</td>\n      <td>carlyn.schultz@email.com</td>\n      <td>https://robohash.org/repellatreprehenderitsunt...</td>\n      <td>Bigender</td>\n      <td>+1-649 268.466.3114 x398</td>\n      <td>489089946</td>\n      <td>1985-07-16</td>\n      <td>{'title': 'District Consultant', 'key_skill': ...</td>\n      <td>{'city': 'West Chantal', 'street_name': 'Dudle...</td>\n      <td>{'cc_number': '6771-8967-4782-5235'}</td>\n      <td>{'plan': 'Business', 'status': 'Pending', 'pay...</td>\n      <td>930 Welch Coves, West Chantal, United States, ...</td>\n    </tr>\n    <tr>\n      <th>997</th>\n      <td>7853</td>\n      <td>64a5f210-2e69-44fa-a578-a4310ddd25e1</td>\n      <td>oRb2UviTJ9</td>\n      <td>Rodrick</td>\n      <td>Ondricka</td>\n      <td>rodrick.ondricka</td>\n      <td>rodrick.ondricka@email.com</td>\n      <td>https://robohash.org/beataeetconsequatur.png?s...</td>\n      <td>Male</td>\n      <td>+351 997-703-9263 x32335</td>\n      <td>351810809</td>\n      <td>2005-07-09</td>\n      <td>{'title': 'Forward Accounting Representative',...</td>\n      <td>{'city': 'North Lemuel', 'street_name': 'Taylo...</td>\n      <td>{'cc_number': '4196-0239-3091-4914'}</td>\n      <td>{'plan': 'Free Trial', 'status': 'Active', 'pa...</td>\n      <td>8487 Quigley Mountain, North Lemuel, United St...</td>\n    </tr>\n    <tr>\n      <th>998</th>\n      <td>7116</td>\n      <td>139e3b01-0665-4c13-b678-f04b5d32be68</td>\n      <td>alnDRQCS08</td>\n      <td>Domenic</td>\n      <td>Carter</td>\n      <td>domenic.carter</td>\n      <td>domenic.carter@email.com</td>\n      <td>https://robohash.org/nobisidvero.png?size=300x...</td>\n      <td>Genderfluid</td>\n      <td>+248 (999) 917-5953</td>\n      <td>623095627</td>\n      <td>1974-05-09</td>\n      <td>{'title': 'Forward Consulting Engineer', 'key_...</td>\n      <td>{'city': 'Thompsonville', 'street_name': 'Hett...</td>\n      <td>{'cc_number': '5416-3051-1835-8027'}</td>\n      <td>{'plan': 'Essential', 'status': 'Active', 'pay...</td>\n      <td>688 Willy Neck, Thompsonville, United States, ...</td>\n    </tr>\n    <tr>\n      <th>999</th>\n      <td>9684</td>\n      <td>761f383d-8f06-4714-aa7f-c4b54ed7d24d</td>\n      <td>2ahMbLc7PK</td>\n      <td>Florencia</td>\n      <td>Fisher</td>\n      <td>florencia.fisher</td>\n      <td>florencia.fisher@email.com</td>\n      <td>https://robohash.org/quosnonquas.png?size=300x...</td>\n      <td>Agender</td>\n      <td>+33 114.807.9755 x3723</td>\n      <td>642516520</td>\n      <td>1975-07-22</td>\n      <td>{'title': 'Education Representative', 'key_ski...</td>\n      <td>{'city': 'Israelchester', 'street_name': 'Lave...</td>\n      <td>{'cc_number': '5427-6170-7854-3175'}</td>\n      <td>{'plan': 'Silver', 'status': 'Active', 'paymen...</td>\n      <td>9835 Cyrus Isle, Israelchester, United States,...</td>\n    </tr>\n  </tbody>\n</table>\n<p>1000 rows × 17 columns</p>\n</div>"
     },
     "execution_count": 10,
     "metadata": {},
     "output_type": "execute_result"
    }
   ],
   "source": [
    "people"
   ],
   "metadata": {
    "collapsed": false,
    "ExecuteTime": {
     "end_time": "2023-11-19T10:18:38.729251100Z",
     "start_time": "2023-11-19T10:18:38.701202500Z"
    }
   }
  },
  {
   "cell_type": "code",
   "execution_count": 11,
   "outputs": [
    {
     "data": {
      "text/plain": "     first_name   last_name social_insurance_number date_of_birth  \\\n0         Margo     Wiegand               642396204    1999-10-09   \n1          Dale       Wolff               158657593    1990-09-29   \n2        Austin       Davis               315712083    1990-04-29   \n3        Genaro     Gutmann               243993706    1984-02-05   \n4    Margarette        Funk               237538004    2001-10-24   \n..          ...         ...                     ...           ...   \n995      Victor  Vandervort               701621153    1976-11-09   \n996      Carlyn     Schultz               489089946    1985-07-16   \n997     Rodrick    Ondricka               351810809    2005-07-09   \n998     Domenic      Carter               623095627    1974-05-09   \n999   Florencia      Fisher               642516520    1975-07-22   \n\n                                               address  \\\n0    {'city': 'West Edgarport', 'street_name': 'Mos...   \n1    {'city': 'New Junior', 'street_name': 'Darrin ...   \n2    {'city': 'New Randellberg', 'street_name': 'Qu...   \n3    {'city': 'North Felica', 'street_name': 'Hodki...   \n4    {'city': 'Margaritochester', 'street_name': 'S...   \n..                                                 ...   \n995  {'city': 'East Lucrecia', 'street_name': 'Ervi...   \n996  {'city': 'West Chantal', 'street_name': 'Dudle...   \n997  {'city': 'North Lemuel', 'street_name': 'Taylo...   \n998  {'city': 'Thompsonville', 'street_name': 'Hett...   \n999  {'city': 'Israelchester', 'street_name': 'Lave...   \n\n                   phone_number  \n0     +670 (838) 702-3649 x2710  \n1       +93 1-426-554-2240 x797  \n2    +354 (820) 166-2688 x80879  \n3      +389 (162) 534-9351 x254  \n4       +44 1-160-561-7744 x254  \n..                          ...  \n995     +61 1-817-025-3482 x870  \n996    +1-649 268.466.3114 x398  \n997    +351 997-703-9263 x32335  \n998         +248 (999) 917-5953  \n999      +33 114.807.9755 x3723  \n\n[1000 rows x 6 columns]",
      "text/html": "<div>\n<style scoped>\n    .dataframe tbody tr th:only-of-type {\n        vertical-align: middle;\n    }\n\n    .dataframe tbody tr th {\n        vertical-align: top;\n    }\n\n    .dataframe thead th {\n        text-align: right;\n    }\n</style>\n<table border=\"1\" class=\"dataframe\">\n  <thead>\n    <tr style=\"text-align: right;\">\n      <th></th>\n      <th>first_name</th>\n      <th>last_name</th>\n      <th>social_insurance_number</th>\n      <th>date_of_birth</th>\n      <th>address</th>\n      <th>phone_number</th>\n    </tr>\n  </thead>\n  <tbody>\n    <tr>\n      <th>0</th>\n      <td>Margo</td>\n      <td>Wiegand</td>\n      <td>642396204</td>\n      <td>1999-10-09</td>\n      <td>{'city': 'West Edgarport', 'street_name': 'Mos...</td>\n      <td>+670 (838) 702-3649 x2710</td>\n    </tr>\n    <tr>\n      <th>1</th>\n      <td>Dale</td>\n      <td>Wolff</td>\n      <td>158657593</td>\n      <td>1990-09-29</td>\n      <td>{'city': 'New Junior', 'street_name': 'Darrin ...</td>\n      <td>+93 1-426-554-2240 x797</td>\n    </tr>\n    <tr>\n      <th>2</th>\n      <td>Austin</td>\n      <td>Davis</td>\n      <td>315712083</td>\n      <td>1990-04-29</td>\n      <td>{'city': 'New Randellberg', 'street_name': 'Qu...</td>\n      <td>+354 (820) 166-2688 x80879</td>\n    </tr>\n    <tr>\n      <th>3</th>\n      <td>Genaro</td>\n      <td>Gutmann</td>\n      <td>243993706</td>\n      <td>1984-02-05</td>\n      <td>{'city': 'North Felica', 'street_name': 'Hodki...</td>\n      <td>+389 (162) 534-9351 x254</td>\n    </tr>\n    <tr>\n      <th>4</th>\n      <td>Margarette</td>\n      <td>Funk</td>\n      <td>237538004</td>\n      <td>2001-10-24</td>\n      <td>{'city': 'Margaritochester', 'street_name': 'S...</td>\n      <td>+44 1-160-561-7744 x254</td>\n    </tr>\n    <tr>\n      <th>...</th>\n      <td>...</td>\n      <td>...</td>\n      <td>...</td>\n      <td>...</td>\n      <td>...</td>\n      <td>...</td>\n    </tr>\n    <tr>\n      <th>995</th>\n      <td>Victor</td>\n      <td>Vandervort</td>\n      <td>701621153</td>\n      <td>1976-11-09</td>\n      <td>{'city': 'East Lucrecia', 'street_name': 'Ervi...</td>\n      <td>+61 1-817-025-3482 x870</td>\n    </tr>\n    <tr>\n      <th>996</th>\n      <td>Carlyn</td>\n      <td>Schultz</td>\n      <td>489089946</td>\n      <td>1985-07-16</td>\n      <td>{'city': 'West Chantal', 'street_name': 'Dudle...</td>\n      <td>+1-649 268.466.3114 x398</td>\n    </tr>\n    <tr>\n      <th>997</th>\n      <td>Rodrick</td>\n      <td>Ondricka</td>\n      <td>351810809</td>\n      <td>2005-07-09</td>\n      <td>{'city': 'North Lemuel', 'street_name': 'Taylo...</td>\n      <td>+351 997-703-9263 x32335</td>\n    </tr>\n    <tr>\n      <th>998</th>\n      <td>Domenic</td>\n      <td>Carter</td>\n      <td>623095627</td>\n      <td>1974-05-09</td>\n      <td>{'city': 'Thompsonville', 'street_name': 'Hett...</td>\n      <td>+248 (999) 917-5953</td>\n    </tr>\n    <tr>\n      <th>999</th>\n      <td>Florencia</td>\n      <td>Fisher</td>\n      <td>642516520</td>\n      <td>1975-07-22</td>\n      <td>{'city': 'Israelchester', 'street_name': 'Lave...</td>\n      <td>+33 114.807.9755 x3723</td>\n    </tr>\n  </tbody>\n</table>\n<p>1000 rows × 6 columns</p>\n</div>"
     },
     "execution_count": 11,
     "metadata": {},
     "output_type": "execute_result"
    }
   ],
   "source": [
    "people[[\"first_name\", \"last_name\", \"social_insurance_number\", \"date_of_birth\", \"address\", \"phone_number\"]]"
   ],
   "metadata": {
    "collapsed": false,
    "ExecuteTime": {
     "end_time": "2023-11-19T10:20:10.399162800Z",
     "start_time": "2023-11-19T10:20:10.372654700Z"
    }
   }
  },
  {
   "cell_type": "code",
   "execution_count": 12,
   "outputs": [
    {
     "data": {
      "text/plain": "       id                                   uid    password first_name  \\\n7    4348  c25476b6-4d52-4273-9d33-841ab8de3d09  sPMhbdH83A      Blair   \n12   4541  406db5c3-0063-4b3f-85fc-ebe5e7955c2a  GFSKbeao6P     Dewitt   \n14   1091  ab404ede-72d0-42c9-a0e9-68a7361a6e71  N4BmCE17HF       Irma   \n17   4361  a5c0be80-7e2b-44e5-abd9-3e4547b7be39  7fW5SERVrN    Tamatha   \n20   7791  07743bb2-0bd5-4717-a1e8-83fd41fc40f2  umsWyFcr1H   Barabara   \n..    ...                                   ...         ...        ...   \n984  9544  d52d41e7-7c47-4720-aea7-7ee5a7e79ef5  bt8ANgyIDB       Joni   \n991  7234  803fe58f-8e07-4e95-bb63-1487b6ef5c02  czxeNSYlUb    Saundra   \n992  5994  4f2e39d6-0937-42e2-a675-cf7a97778f40  7qCKFdVLNE       Lacy   \n994  2859  028ad7c1-f8c1-46fb-bb32-595f8909e36b  o5yYX3NQZc    Maurice   \n997  7853  64a5f210-2e69-44fa-a578-a4310ddd25e1  oRb2UviTJ9    Rodrick   \n\n     last_name          username                       email  \\\n7    Rosenbaum   blair.rosenbaum   blair.rosenbaum@email.com   \n12      Howell     dewitt.howell     dewitt.howell@email.com   \n14       Boyer        irma.boyer        irma.boyer@email.com   \n17     Lockman   tamatha.lockman   tamatha.lockman@email.com   \n20     DuBuque  barabara.dubuque  barabara.dubuque@email.com   \n..         ...               ...                         ...   \n984    Windler      joni.windler      joni.windler@email.com   \n991      Ebert     saundra.ebert     saundra.ebert@email.com   \n992  Gulgowski    lacy.gulgowski    lacy.gulgowski@email.com   \n994   Leuschke  maurice.leuschke  maurice.leuschke@email.com   \n997   Ondricka  rodrick.ondricka  rodrick.ondricka@email.com   \n\n                                                avatar  gender  \\\n7    https://robohash.org/repudiandaeeumaspernatur....  Female   \n12   https://robohash.org/etaperiamquo.png?size=300...  Female   \n14   https://robohash.org/fugamagnamporro.png?size=...    Male   \n17   https://robohash.org/reiciendisapraesentium.pn...    Male   \n20   https://robohash.org/consequunturquamipsa.png?...    Male   \n..                                                 ...     ...   \n984  https://robohash.org/etquiseos.png?size=300x30...    Male   \n991  https://robohash.org/aperiamullamsit.png?size=...  Female   \n992  https://robohash.org/odioteneturrerum.png?size...    Male   \n994  https://robohash.org/totamhicrerum.png?size=30...    Male   \n997  https://robohash.org/beataeetconsequatur.png?s...    Male   \n\n                  phone_number social_insurance_number date_of_birth  \\\n7       +7-6 414.517.6598 x822               317127827    1958-12-04   \n12           +290 717-575-6429               358679157    1994-06-20   \n14     +373 721.667.8079 x9315               325952547    1979-05-18   \n17       +27 795.356.8663 x594               497691527    1992-08-07   \n20       +27 445-433-0197 x540               733678965    1981-08-12   \n..                         ...                     ...           ...   \n984   +232 237-752-9394 x97995               484712492    1960-08-05   \n991   +973 698-569-1273 x28620               313186215    1967-02-24   \n992  +226 (342) 104-3854 x4308               547989004    1997-09-19   \n994           +52 371-040-1344               608930723    1990-11-18   \n997   +351 997-703-9263 x32335               351810809    2005-07-09   \n\n                                            employment  \\\n7    {'title': 'Government Technician', 'key_skill'...   \n12   {'title': 'Marketing Technician', 'key_skill':...   \n14   {'title': 'Marketing Producer', 'key_skill': '...   \n17   {'title': 'Human Administration Agent', 'key_s...   \n20   {'title': 'Legal Planner', 'key_skill': 'Work ...   \n..                                                 ...   \n984  {'title': 'Product Marketing Orchestrator', 'k...   \n991  {'title': 'International Advertising Officer',...   \n992  {'title': 'Investor Agent', 'key_skill': 'Comm...   \n994  {'title': 'Senior Marketing Coordinator', 'key...   \n997  {'title': 'Forward Accounting Representative',...   \n\n                                               address  \\\n7    {'city': 'Lake Arahaven', 'street_name': 'Crui...   \n12   {'city': 'Rosioshire', 'street_name': 'Rice Pl...   \n14   {'city': 'Port Tieshaview', 'street_name': 'Mo...   \n17   {'city': 'Port Cherylhaven', 'street_name': 'P...   \n20   {'city': 'East Ronny', 'street_name': 'Streich...   \n..                                                 ...   \n984  {'city': 'Langstad', 'street_name': 'Krajcik V...   \n991  {'city': 'Lehnerfort', 'street_name': 'Eda Mis...   \n992  {'city': 'Wolfffurt', 'street_name': 'Nicolas ...   \n994  {'city': 'West Bryant', 'street_name': 'Elroy ...   \n997  {'city': 'North Lemuel', 'street_name': 'Taylo...   \n\n                              credit_card  \\\n7          {'cc_number': '4412264869788'}   \n12   {'cc_number': '5258-9474-9958-0009'}   \n14         {'cc_number': '4638171247979'}   \n17   {'cc_number': '4405-0946-2823-4821'}   \n20         {'cc_number': '4462639262425'}   \n..                                    ...   \n984  {'cc_number': '4654-0725-6673-4992'}   \n991  {'cc_number': '4803-6746-9693-2345'}   \n992  {'cc_number': '4894-7024-5464-9775'}   \n994        {'cc_number': '4726975549474'}   \n997  {'cc_number': '4196-0239-3091-4914'}   \n\n                                          subscription  \\\n7    {'plan': 'Business', 'status': 'Active', 'paym...   \n12   {'plan': 'Starter', 'status': 'Blocked', 'paym...   \n14   {'plan': 'Professional', 'status': 'Pending', ...   \n17   {'plan': 'Gold', 'status': 'Active', 'payment_...   \n20   {'plan': 'Starter', 'status': 'Pending', 'paym...   \n..                                                 ...   \n984  {'plan': 'Professional', 'status': 'Pending', ...   \n991  {'plan': 'Platinum', 'status': 'Blocked', 'pay...   \n992  {'plan': 'Professional', 'status': 'Pending', ...   \n994  {'plan': 'Gold', 'status': 'Active', 'payment_...   \n997  {'plan': 'Free Trial', 'status': 'Active', 'pa...   \n\n                                                adress  \n7    20635 Reichert Stravenue, Lake Arahaven, Unite...  \n12   886 Bailey Knoll, Rosioshire, United States, 2...  \n14   57404 Zieme Forges, Port Tieshaview, United St...  \n17   91247 Darrell Center, Port Cherylhaven, United...  \n20   1158 Ledner Stravenue, East Ronny, United Stat...  \n..                                                 ...  \n984  97255 Watsica Bypass, Langstad, United States,...  \n991  62679 Kuhn Garden, Lehnerfort, United States, ...  \n992   416 Chad Square, Wolfffurt, United States, 25001  \n994  6843 Blake Plaza, West Bryant, United States, ...  \n997  8487 Quigley Mountain, North Lemuel, United St...  \n\n[257 rows x 17 columns]",
      "text/html": "<div>\n<style scoped>\n    .dataframe tbody tr th:only-of-type {\n        vertical-align: middle;\n    }\n\n    .dataframe tbody tr th {\n        vertical-align: top;\n    }\n\n    .dataframe thead th {\n        text-align: right;\n    }\n</style>\n<table border=\"1\" class=\"dataframe\">\n  <thead>\n    <tr style=\"text-align: right;\">\n      <th></th>\n      <th>id</th>\n      <th>uid</th>\n      <th>password</th>\n      <th>first_name</th>\n      <th>last_name</th>\n      <th>username</th>\n      <th>email</th>\n      <th>avatar</th>\n      <th>gender</th>\n      <th>phone_number</th>\n      <th>social_insurance_number</th>\n      <th>date_of_birth</th>\n      <th>employment</th>\n      <th>address</th>\n      <th>credit_card</th>\n      <th>subscription</th>\n      <th>adress</th>\n    </tr>\n  </thead>\n  <tbody>\n    <tr>\n      <th>7</th>\n      <td>4348</td>\n      <td>c25476b6-4d52-4273-9d33-841ab8de3d09</td>\n      <td>sPMhbdH83A</td>\n      <td>Blair</td>\n      <td>Rosenbaum</td>\n      <td>blair.rosenbaum</td>\n      <td>blair.rosenbaum@email.com</td>\n      <td>https://robohash.org/repudiandaeeumaspernatur....</td>\n      <td>Female</td>\n      <td>+7-6 414.517.6598 x822</td>\n      <td>317127827</td>\n      <td>1958-12-04</td>\n      <td>{'title': 'Government Technician', 'key_skill'...</td>\n      <td>{'city': 'Lake Arahaven', 'street_name': 'Crui...</td>\n      <td>{'cc_number': '4412264869788'}</td>\n      <td>{'plan': 'Business', 'status': 'Active', 'paym...</td>\n      <td>20635 Reichert Stravenue, Lake Arahaven, Unite...</td>\n    </tr>\n    <tr>\n      <th>12</th>\n      <td>4541</td>\n      <td>406db5c3-0063-4b3f-85fc-ebe5e7955c2a</td>\n      <td>GFSKbeao6P</td>\n      <td>Dewitt</td>\n      <td>Howell</td>\n      <td>dewitt.howell</td>\n      <td>dewitt.howell@email.com</td>\n      <td>https://robohash.org/etaperiamquo.png?size=300...</td>\n      <td>Female</td>\n      <td>+290 717-575-6429</td>\n      <td>358679157</td>\n      <td>1994-06-20</td>\n      <td>{'title': 'Marketing Technician', 'key_skill':...</td>\n      <td>{'city': 'Rosioshire', 'street_name': 'Rice Pl...</td>\n      <td>{'cc_number': '5258-9474-9958-0009'}</td>\n      <td>{'plan': 'Starter', 'status': 'Blocked', 'paym...</td>\n      <td>886 Bailey Knoll, Rosioshire, United States, 2...</td>\n    </tr>\n    <tr>\n      <th>14</th>\n      <td>1091</td>\n      <td>ab404ede-72d0-42c9-a0e9-68a7361a6e71</td>\n      <td>N4BmCE17HF</td>\n      <td>Irma</td>\n      <td>Boyer</td>\n      <td>irma.boyer</td>\n      <td>irma.boyer@email.com</td>\n      <td>https://robohash.org/fugamagnamporro.png?size=...</td>\n      <td>Male</td>\n      <td>+373 721.667.8079 x9315</td>\n      <td>325952547</td>\n      <td>1979-05-18</td>\n      <td>{'title': 'Marketing Producer', 'key_skill': '...</td>\n      <td>{'city': 'Port Tieshaview', 'street_name': 'Mo...</td>\n      <td>{'cc_number': '4638171247979'}</td>\n      <td>{'plan': 'Professional', 'status': 'Pending', ...</td>\n      <td>57404 Zieme Forges, Port Tieshaview, United St...</td>\n    </tr>\n    <tr>\n      <th>17</th>\n      <td>4361</td>\n      <td>a5c0be80-7e2b-44e5-abd9-3e4547b7be39</td>\n      <td>7fW5SERVrN</td>\n      <td>Tamatha</td>\n      <td>Lockman</td>\n      <td>tamatha.lockman</td>\n      <td>tamatha.lockman@email.com</td>\n      <td>https://robohash.org/reiciendisapraesentium.pn...</td>\n      <td>Male</td>\n      <td>+27 795.356.8663 x594</td>\n      <td>497691527</td>\n      <td>1992-08-07</td>\n      <td>{'title': 'Human Administration Agent', 'key_s...</td>\n      <td>{'city': 'Port Cherylhaven', 'street_name': 'P...</td>\n      <td>{'cc_number': '4405-0946-2823-4821'}</td>\n      <td>{'plan': 'Gold', 'status': 'Active', 'payment_...</td>\n      <td>91247 Darrell Center, Port Cherylhaven, United...</td>\n    </tr>\n    <tr>\n      <th>20</th>\n      <td>7791</td>\n      <td>07743bb2-0bd5-4717-a1e8-83fd41fc40f2</td>\n      <td>umsWyFcr1H</td>\n      <td>Barabara</td>\n      <td>DuBuque</td>\n      <td>barabara.dubuque</td>\n      <td>barabara.dubuque@email.com</td>\n      <td>https://robohash.org/consequunturquamipsa.png?...</td>\n      <td>Male</td>\n      <td>+27 445-433-0197 x540</td>\n      <td>733678965</td>\n      <td>1981-08-12</td>\n      <td>{'title': 'Legal Planner', 'key_skill': 'Work ...</td>\n      <td>{'city': 'East Ronny', 'street_name': 'Streich...</td>\n      <td>{'cc_number': '4462639262425'}</td>\n      <td>{'plan': 'Starter', 'status': 'Pending', 'paym...</td>\n      <td>1158 Ledner Stravenue, East Ronny, United Stat...</td>\n    </tr>\n    <tr>\n      <th>...</th>\n      <td>...</td>\n      <td>...</td>\n      <td>...</td>\n      <td>...</td>\n      <td>...</td>\n      <td>...</td>\n      <td>...</td>\n      <td>...</td>\n      <td>...</td>\n      <td>...</td>\n      <td>...</td>\n      <td>...</td>\n      <td>...</td>\n      <td>...</td>\n      <td>...</td>\n      <td>...</td>\n      <td>...</td>\n    </tr>\n    <tr>\n      <th>984</th>\n      <td>9544</td>\n      <td>d52d41e7-7c47-4720-aea7-7ee5a7e79ef5</td>\n      <td>bt8ANgyIDB</td>\n      <td>Joni</td>\n      <td>Windler</td>\n      <td>joni.windler</td>\n      <td>joni.windler@email.com</td>\n      <td>https://robohash.org/etquiseos.png?size=300x30...</td>\n      <td>Male</td>\n      <td>+232 237-752-9394 x97995</td>\n      <td>484712492</td>\n      <td>1960-08-05</td>\n      <td>{'title': 'Product Marketing Orchestrator', 'k...</td>\n      <td>{'city': 'Langstad', 'street_name': 'Krajcik V...</td>\n      <td>{'cc_number': '4654-0725-6673-4992'}</td>\n      <td>{'plan': 'Professional', 'status': 'Pending', ...</td>\n      <td>97255 Watsica Bypass, Langstad, United States,...</td>\n    </tr>\n    <tr>\n      <th>991</th>\n      <td>7234</td>\n      <td>803fe58f-8e07-4e95-bb63-1487b6ef5c02</td>\n      <td>czxeNSYlUb</td>\n      <td>Saundra</td>\n      <td>Ebert</td>\n      <td>saundra.ebert</td>\n      <td>saundra.ebert@email.com</td>\n      <td>https://robohash.org/aperiamullamsit.png?size=...</td>\n      <td>Female</td>\n      <td>+973 698-569-1273 x28620</td>\n      <td>313186215</td>\n      <td>1967-02-24</td>\n      <td>{'title': 'International Advertising Officer',...</td>\n      <td>{'city': 'Lehnerfort', 'street_name': 'Eda Mis...</td>\n      <td>{'cc_number': '4803-6746-9693-2345'}</td>\n      <td>{'plan': 'Platinum', 'status': 'Blocked', 'pay...</td>\n      <td>62679 Kuhn Garden, Lehnerfort, United States, ...</td>\n    </tr>\n    <tr>\n      <th>992</th>\n      <td>5994</td>\n      <td>4f2e39d6-0937-42e2-a675-cf7a97778f40</td>\n      <td>7qCKFdVLNE</td>\n      <td>Lacy</td>\n      <td>Gulgowski</td>\n      <td>lacy.gulgowski</td>\n      <td>lacy.gulgowski@email.com</td>\n      <td>https://robohash.org/odioteneturrerum.png?size...</td>\n      <td>Male</td>\n      <td>+226 (342) 104-3854 x4308</td>\n      <td>547989004</td>\n      <td>1997-09-19</td>\n      <td>{'title': 'Investor Agent', 'key_skill': 'Comm...</td>\n      <td>{'city': 'Wolfffurt', 'street_name': 'Nicolas ...</td>\n      <td>{'cc_number': '4894-7024-5464-9775'}</td>\n      <td>{'plan': 'Professional', 'status': 'Pending', ...</td>\n      <td>416 Chad Square, Wolfffurt, United States, 25001</td>\n    </tr>\n    <tr>\n      <th>994</th>\n      <td>2859</td>\n      <td>028ad7c1-f8c1-46fb-bb32-595f8909e36b</td>\n      <td>o5yYX3NQZc</td>\n      <td>Maurice</td>\n      <td>Leuschke</td>\n      <td>maurice.leuschke</td>\n      <td>maurice.leuschke@email.com</td>\n      <td>https://robohash.org/totamhicrerum.png?size=30...</td>\n      <td>Male</td>\n      <td>+52 371-040-1344</td>\n      <td>608930723</td>\n      <td>1990-11-18</td>\n      <td>{'title': 'Senior Marketing Coordinator', 'key...</td>\n      <td>{'city': 'West Bryant', 'street_name': 'Elroy ...</td>\n      <td>{'cc_number': '4726975549474'}</td>\n      <td>{'plan': 'Gold', 'status': 'Active', 'payment_...</td>\n      <td>6843 Blake Plaza, West Bryant, United States, ...</td>\n    </tr>\n    <tr>\n      <th>997</th>\n      <td>7853</td>\n      <td>64a5f210-2e69-44fa-a578-a4310ddd25e1</td>\n      <td>oRb2UviTJ9</td>\n      <td>Rodrick</td>\n      <td>Ondricka</td>\n      <td>rodrick.ondricka</td>\n      <td>rodrick.ondricka@email.com</td>\n      <td>https://robohash.org/beataeetconsequatur.png?s...</td>\n      <td>Male</td>\n      <td>+351 997-703-9263 x32335</td>\n      <td>351810809</td>\n      <td>2005-07-09</td>\n      <td>{'title': 'Forward Accounting Representative',...</td>\n      <td>{'city': 'North Lemuel', 'street_name': 'Taylo...</td>\n      <td>{'cc_number': '4196-0239-3091-4914'}</td>\n      <td>{'plan': 'Free Trial', 'status': 'Active', 'pa...</td>\n      <td>8487 Quigley Mountain, North Lemuel, United St...</td>\n    </tr>\n  </tbody>\n</table>\n<p>257 rows × 17 columns</p>\n</div>"
     },
     "execution_count": 12,
     "metadata": {},
     "output_type": "execute_result"
    }
   ],
   "source": [
    "people[(people[\"gender\"] == \"Male\") | (people[\"gender\"] == \"Female\")]"
   ],
   "metadata": {
    "collapsed": false,
    "ExecuteTime": {
     "end_time": "2023-11-19T10:24:34.769155300Z",
     "start_time": "2023-11-19T10:24:34.737403200Z"
    }
   }
  }
 ],
 "metadata": {
  "kernelspec": {
   "display_name": "Python 3",
   "language": "python",
   "name": "python3"
  },
  "language_info": {
   "codemirror_mode": {
    "name": "ipython",
    "version": 2
   },
   "file_extension": ".py",
   "mimetype": "text/x-python",
   "name": "python",
   "nbconvert_exporter": "python",
   "pygments_lexer": "ipython2",
   "version": "2.7.6"
  }
 },
 "nbformat": 4,
 "nbformat_minor": 0
}
